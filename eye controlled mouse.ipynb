{
 "cells": [
  {
   "cell_type": "code",
   "execution_count": 1,
   "id": "f61c823e",
   "metadata": {},
   "outputs": [
    {
     "name": "stdout",
     "output_type": "stream",
     "text": [
      "Requirement already satisfied: opencv-contrib-python in c:\\users\\vamshi\\anaconda3\\lib\\site-packages (4.9.0.80)\n",
      "Requirement already satisfied: numpy>=1.21.2 in c:\\users\\vamshi\\anaconda3\\lib\\site-packages (from opencv-contrib-python) (1.26.4)\n",
      "Note: you may need to restart the kernel to use updated packages.\n"
     ]
    }
   ],
   "source": [
    "pip install opencv-contrib-python"
   ]
  },
  {
   "cell_type": "code",
   "execution_count": 2,
   "id": "d40eb97b",
   "metadata": {},
   "outputs": [
    {
     "name": "stdout",
     "output_type": "stream",
     "text": [
      "click\n",
      "click\n",
      "click\n",
      "click\n",
      "click\n",
      "click\n",
      "click\n",
      "click\n",
      "click\n",
      "click\n",
      "click\n",
      "click\n",
      "click\n",
      "click\n",
      "click\n",
      "click\n",
      "click\n",
      "click\n",
      "click\n",
      "click\n"
     ]
    },
    {
     "ename": "KeyboardInterrupt",
     "evalue": "",
     "output_type": "error",
     "traceback": [
      "\u001b[1;31m---------------------------------------------------------------------------\u001b[0m",
      "\u001b[1;31mKeyboardInterrupt\u001b[0m                         Traceback (most recent call last)",
      "Cell \u001b[1;32mIn[2], line 8\u001b[0m\n\u001b[0;32m      6\u001b[0m screen_w,screen_h\u001b[38;5;241m=\u001b[39mpyautogui\u001b[38;5;241m.\u001b[39msize()\n\u001b[0;32m      7\u001b[0m \u001b[38;5;28;01mwhile\u001b[39;00m \u001b[38;5;28;01mTrue\u001b[39;00m:\n\u001b[1;32m----> 8\u001b[0m     _,frame\u001b[38;5;241m=\u001b[39mcam\u001b[38;5;241m.\u001b[39mread()\n\u001b[0;32m      9\u001b[0m     frame\u001b[38;5;241m=\u001b[39mcv2\u001b[38;5;241m.\u001b[39mflip(frame,\u001b[38;5;241m1\u001b[39m)\n\u001b[0;32m     10\u001b[0m     rgb_frame\u001b[38;5;241m=\u001b[39mcv2\u001b[38;5;241m.\u001b[39mcvtColor(frame,cv2\u001b[38;5;241m.\u001b[39mCOLOR_BGR2RGB)\n",
      "\u001b[1;31mKeyboardInterrupt\u001b[0m: "
     ]
    }
   ],
   "source": [
    "import cv2\n",
    "import mediapipe as mp\n",
    "import pyautogui\n",
    "cam = cv2.VideoCapture(0)\n",
    "face_mesh = mp.solutions.face_mesh.FaceMesh(refine_landmarks=True)\n",
    "screen_w,screen_h=pyautogui.size()\n",
    "while True:\n",
    "    _,frame=cam.read()\n",
    "    frame=cv2.flip(frame,1)\n",
    "    rgb_frame=cv2.cvtColor(frame,cv2.COLOR_BGR2RGB)\n",
    "    output=face_mesh.process(rgb_frame)\n",
    "    landmark_points=output.multi_face_landmarks\n",
    "    frame_h, frame_w,_=frame.shape\n",
    "    if landmark_points:\n",
    "        landmarks=landmark_points[0].landmark\n",
    "        for id, landmark in enumerate(landmarks[474:478]):\n",
    "            x=int(landmark.x*frame_w)\n",
    "            y=int(landmark.y*frame_h)\n",
    "            cv2.circle(frame,(x,y),3,(0,255,0))\n",
    "            if id==1:\n",
    "                screen_x=screen_w/frame_w*x\n",
    "                screen_y=screen_h/frame_h*y\n",
    "                pyautogui.moveTo(screen_x,screen_y)\n",
    "        left=[landmarks[145],landmarks[159]]\n",
    "        for landmark in left:\n",
    "            x=int(landmark.x*frame_w)\n",
    "            y=int(landmark.y*frame_h)\n",
    "            cv2.circle(frame,(x,y),3,(0,255,255))\n",
    "        if(left[0].y-left[1].y<0.025):\n",
    "            print('click')\n",
    "            pyautogui.click()\n",
    "            pyautogui.sleep(1)\n",
    "    cv2.imshow('Eye Controlled Mouse',frame)\n",
    "    cv2.waitKey(1)"
   ]
  },
  {
   "cell_type": "code",
   "execution_count": null,
   "id": "e160eafd",
   "metadata": {},
   "outputs": [],
   "source": []
  },
  {
   "cell_type": "code",
   "execution_count": null,
   "id": "c6d12531",
   "metadata": {},
   "outputs": [],
   "source": []
  }
 ],
 "metadata": {
  "kernelspec": {
   "display_name": "Python 3 (ipykernel)",
   "language": "python",
   "name": "python3"
  },
  "language_info": {
   "codemirror_mode": {
    "name": "ipython",
    "version": 3
   },
   "file_extension": ".py",
   "mimetype": "text/x-python",
   "name": "python",
   "nbconvert_exporter": "python",
   "pygments_lexer": "ipython3",
   "version": "3.11.7"
  }
 },
 "nbformat": 4,
 "nbformat_minor": 5
}
